{
 "cells": [
  {
   "cell_type": "markdown",
   "metadata": {},
   "source": [
    "## Python Review — Workbook"
   ]
  },
  {
   "cell_type": "markdown",
   "metadata": {},
   "source": [
    "Our goal is to make a function called `keyword_extractor()`, which will accept two arguments — a song and a keyword — and then return the lines from the song that contain a give keyword. We will practice on Phoebe Bridgers' song \"I Know the End.\""
   ]
  },
  {
   "cell_type": "code",
   "execution_count": 3,
   "metadata": {},
   "outputs": [],
   "source": [
    "pb_song = \"\"\"Somewhere in Germany, but I can't place it\n",
    "Man, I hate this part of Texas\n",
    "Close my eyes, fantasize\n",
    "Three clicks, and I'm home\n",
    "When I get back I'll lay around\n",
    "And I'll get up and lay back down\n",
    "Romanticize a quiet life\n",
    "There's no place like my room\n",
    "But you had to go\n",
    "I know, I know, I know\n",
    "Like a wave that crashed and melted on the shore\n",
    "Not even the burnouts are out here anymore\n",
    "And you had to go\n",
    "I know, I know, I know\n",
    "Out in the park, we watch the sunset\n",
    "Talking on a rusty swing set\n",
    "After awhile you went quiet, and I got mean\n",
    "I'm always pushing you away from me\n",
    "But you come back with gravity\n",
    "And when I call, you come home\n",
    "A bird in your teeth\n",
    "So I gotta go\n",
    "I know, I know, I know\n",
    "When the sirens sound, you'll hide under the floor\n",
    "But I'm not gonna go down with my hometown in a tornado\n",
    "I'm gonna chase it\n",
    "I know, I know, I know\n",
    "I gotta go now\n",
    "I know, I know, I know\n",
    "Driving out into the sun\n",
    "Let the ultraviolet cover me up\n",
    "Went looking for a creation myth\n",
    "Ended up with a pair of cracked lips\n",
    "Windows down, scream along\n",
    "To some America first rap, country song\n",
    "A slaughterhouse, an outlet mall\n",
    "Slot machines, fear of God\n",
    "Windows down, heater on\n",
    "Big bolts of lightning hanging low\n",
    "Over the coast, everyone's convinced\n",
    "It's a government drone or an alien spaceship\n",
    "Either way, we're not alone\n",
    "I'll find a new place to be from\n",
    "A haunted house with a picket fence\n",
    "To float around and ghost my friends\n",
    "No, I'm not afraid to disappear\n",
    "The billboard said, 'The end is near'\n",
    "I turned around, there was nothing there\n",
    "Yeah, I guess the end is here\n",
    "The end is here\n",
    "The end is here\n",
    "The end is here\n",
    "The end is here\"\"\""
   ]
  },
  {
   "cell_type": "markdown",
   "metadata": {},
   "source": [
    "## Step 1 — Start Small"
   ]
  },
  {
   "cell_type": "markdown",
   "metadata": {},
   "source": [
    "Before we make the function, let's simply print out the lines from `pb_song` (Phoebe Bridgers' \"I Know the End\") that match the keyword \n",
    "**\"home\"**.\n",
    "\n",
    "## Step 2 — Think About the Steps\n",
    "Take a minute and jot down the steps that we will need to take to complete this task."
   ]
  },
  {
   "cell_type": "markdown",
   "metadata": {},
   "source": [
    "print out the lines from pb_song that match the keyword home"
   ]
  },
  {
   "cell_type": "markdown",
   "metadata": {},
   "source": [
    "## Step 3 — Sketch It Out With Code"
   ]
  },
  {
   "cell_type": "markdown",
   "metadata": {},
   "source": [
    "Now use Python code to print out the lines from `pb_song` (Phoebe Bridgers' \"I Know the End\") that match the keyword \n",
    "**\"home\"**."
   ]
  },
  {
   "cell_type": "code",
   "execution_count": 7,
   "metadata": {},
   "outputs": [],
   "source": [
    "def keyword_extractor(text):\n",
    "    keyword_extractor = pb_song()\n",
    "    return"
   ]
  },
  {
   "cell_type": "code",
   "execution_count": 9,
   "metadata": {},
   "outputs": [
    {
     "ename": "TypeError",
     "evalue": "'str' object is not callable",
     "output_type": "error",
     "traceback": [
      "\u001b[1;31m---------------------------------------------------------------------------\u001b[0m",
      "\u001b[1;31mTypeError\u001b[0m                                 Traceback (most recent call last)",
      "\u001b[1;32mc:\\Users\\whim_\\OneDrive\\Documents\\GitHub\\3844f23-writing-digital-media\\book\\02-Intro-to-Python\\15-Python-Review.ipynb Cell 10\u001b[0m line \u001b[0;36m1\n\u001b[1;32m----> <a href='vscode-notebook-cell:/c%3A/Users/whim_/OneDrive/Documents/GitHub/3844f23-writing-digital-media/book/02-Intro-to-Python/15-Python-Review.ipynb#X12sZmlsZQ%3D%3D?line=0'>1</a>\u001b[0m keyword_extractor(\u001b[39m'\u001b[39m\u001b[39mhome\u001b[39m\u001b[39m'\u001b[39m)\n",
      "\u001b[1;32mc:\\Users\\whim_\\OneDrive\\Documents\\GitHub\\3844f23-writing-digital-media\\book\\02-Intro-to-Python\\15-Python-Review.ipynb Cell 10\u001b[0m line \u001b[0;36m2\n\u001b[0;32m      <a href='vscode-notebook-cell:/c%3A/Users/whim_/OneDrive/Documents/GitHub/3844f23-writing-digital-media/book/02-Intro-to-Python/15-Python-Review.ipynb#X12sZmlsZQ%3D%3D?line=0'>1</a>\u001b[0m \u001b[39mdef\u001b[39;00m \u001b[39mkeyword_extractor\u001b[39m(text):\n\u001b[1;32m----> <a href='vscode-notebook-cell:/c%3A/Users/whim_/OneDrive/Documents/GitHub/3844f23-writing-digital-media/book/02-Intro-to-Python/15-Python-Review.ipynb#X12sZmlsZQ%3D%3D?line=1'>2</a>\u001b[0m     keyword_extractor \u001b[39m=\u001b[39m pb_song(\u001b[39m'\u001b[39m\u001b[39mhome\u001b[39m\u001b[39m'\u001b[39m)\n\u001b[0;32m      <a href='vscode-notebook-cell:/c%3A/Users/whim_/OneDrive/Documents/GitHub/3844f23-writing-digital-media/book/02-Intro-to-Python/15-Python-Review.ipynb#X12sZmlsZQ%3D%3D?line=2'>3</a>\u001b[0m     \u001b[39mreturn\u001b[39;00m\n",
      "\u001b[1;31mTypeError\u001b[0m: 'str' object is not callable"
     ]
    }
   ],
   "source": [
    "keyword_extractor('home')"
   ]
  },
  {
   "cell_type": "markdown",
   "metadata": {},
   "source": [
    "Now let's make a new list `matching_lines` that contains lines from `song` that match the keyword \"home\"."
   ]
  },
  {
   "cell_type": "code",
   "execution_count": 12,
   "metadata": {},
   "outputs": [
    {
     "ename": "SyntaxError",
     "evalue": "invalid syntax (1041670612.py, line 2)",
     "output_type": "error",
     "traceback": [
      "\u001b[1;36m  Cell \u001b[1;32mIn[12], line 2\u001b[1;36m\u001b[0m\n\u001b[1;33m    matching_lines =\u001b[0m\n\u001b[1;37m                     ^\u001b[0m\n\u001b[1;31mSyntaxError\u001b[0m\u001b[1;31m:\u001b[0m invalid syntax\n"
     ]
    }
   ],
   "source": [
    "def matching_lines():\n",
    "    matching_lines = "
   ]
  },
  {
   "cell_type": "code",
   "execution_count": null,
   "metadata": {},
   "outputs": [],
   "source": [
    "print(matching_lines)"
   ]
  },
  {
   "cell_type": "markdown",
   "metadata": {},
   "source": [
    "## Step 4 — Put It All Together"
   ]
  },
  {
   "cell_type": "code",
   "execution_count": 10,
   "metadata": {},
   "outputs": [],
   "source": [
    "def keyword_extractor():\n",
    "    keyword_extractor = (pb_song, '')\n",
    "    return keyword_extractor"
   ]
  },
  {
   "cell_type": "code",
   "execution_count": 11,
   "metadata": {},
   "outputs": [
    {
     "ename": "TypeError",
     "evalue": "keyword_extractor() takes 0 positional arguments but 2 were given",
     "output_type": "error",
     "traceback": [
      "\u001b[1;31m---------------------------------------------------------------------------\u001b[0m",
      "\u001b[1;31mTypeError\u001b[0m                                 Traceback (most recent call last)",
      "\u001b[1;32mc:\\Users\\whim_\\OneDrive\\Documents\\GitHub\\3844f23-writing-digital-media\\book\\02-Intro-to-Python\\15-Python-Review.ipynb Cell 16\u001b[0m line \u001b[0;36m1\n\u001b[1;32m----> <a href='vscode-notebook-cell:/c%3A/Users/whim_/OneDrive/Documents/GitHub/3844f23-writing-digital-media/book/02-Intro-to-Python/15-Python-Review.ipynb#X21sZmlsZQ%3D%3D?line=0'>1</a>\u001b[0m keyword_extractor(pb_song, \u001b[39m\"\u001b[39m\u001b[39mhome\u001b[39m\u001b[39m\"\u001b[39m)\n",
      "\u001b[1;31mTypeError\u001b[0m: keyword_extractor() takes 0 positional arguments but 2 were given"
     ]
    }
   ],
   "source": [
    "keyword_extractor(pb_song, \"home\")"
   ]
  }
 ],
 "metadata": {
  "kernelspec": {
   "display_name": "Python 3",
   "language": "python",
   "name": "python3"
  },
  "language_info": {
   "codemirror_mode": {
    "name": "ipython",
    "version": 3
   },
   "file_extension": ".py",
   "mimetype": "text/x-python",
   "name": "python",
   "nbconvert_exporter": "python",
   "pygments_lexer": "ipython3",
   "version": "3.11.4"
  }
 },
 "nbformat": 4,
 "nbformat_minor": 4
}
